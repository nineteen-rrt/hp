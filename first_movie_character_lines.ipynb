{
 "cells": [
  {
   "cell_type": "code",
   "execution_count": 1,
   "metadata": {},
   "outputs": [],
   "source": [
    "import re"
   ]
  },
  {
   "cell_type": "code",
   "execution_count": 2,
   "metadata": {},
   "outputs": [
    {
     "name": "stdout",
     "output_type": "stream",
     "text": [
      "['Scene:', '', 'A neighbourhood on a street called Privet Drive. An owl, sitting on the street sign flies off to reveal a mysterious appearing old man walking through a forest near the street. He stops at the start of the street and takes out a mechanical device and zaps all the light out of the lampposts. He puts away the device and a cat meows. The man, ALBUS DUMBLEDORE, looks down at the cat, which is a tabby and is sitting on a brick ledge.', '', ' ', '', 'Dumbledore: I should have known that you would be here...Professor McGonagall.', '', ' ', '']\n"
     ]
    }
   ],
   "source": [
    "# Opens the first movie's script\n",
    "f = open(\"first_movie.txt\",'r')\n",
    "whole_script = f.read()\n",
    "\n",
    "# A few things I noticed right off the bat:\n",
    "\n",
    "# Fixes a typo\n",
    "whole_script = re.sub(r\"OIiver\", \"Oliver\", whole_script)\n",
    "# Albus and Dumbledore are the same character\n",
    "whole_script = re.sub(r\"Albus:\", \"Dumbledore:\", whole_script)\n",
    "# Gets rid of colons in dialogue\n",
    "whole_script = re.sub(r\"12:00\", \"twelve o'clock\", whole_script)\n",
    "whole_script = re.sub(r\"seen: Albus\", \"seen - Albus\", whole_script)\n",
    "\n",
    "# Gives a list of lines (spoken and non-spoken)\n",
    "script_by_lines = whole_script.splitlines()\n",
    "print(script_by_lines[:10])"
   ]
  },
  {
   "cell_type": "code",
   "execution_count": 3,
   "metadata": {},
   "outputs": [
    {
     "data": {
      "text/plain": [
       "['Dumbledore',\n",
       " 'McGonagall',\n",
       " 'Hagrid',\n",
       " 'The camera pans into the scar and the opening title shows',\n",
       " 'Almost ten years after the',\n",
       " 'Petunia',\n",
       " 'Dudley',\n",
       " 'Vernon',\n",
       " 'Harry',\n",
       " 'Snake',\n",
       " 'Man',\n",
       " \"Vernon glares down at him and Harry's grin disappears. Petunia continues screaming\",\n",
       " 'Petunia and Vernon',\n",
       " 'Vernon, Petunia, and Dudley',\n",
       " 'Harry appears',\n",
       " 'Harry: Thank you! {Opens cake, which reads',\n",
       " 'Barkeep Tom',\n",
       " 'Tom',\n",
       " 'Witch',\n",
       " 'Quirrell',\n",
       " 'Boy',\n",
       " 'Goblin',\n",
       " 'Griphook',\n",
       " 'Ollivander',\n",
       " 'Trainmaster',\n",
       " 'Mrs. Weasley',\n",
       " 'George',\n",
       " 'Fred',\n",
       " 'Ginny',\n",
       " 'Ron',\n",
       " 'Woman',\n",
       " 'Frog',\n",
       " 'Hermione',\n",
       " 'Neville',\n",
       " 'Draco',\n",
       " \"Hermione: It's not real, the ceiling. It's just bewitched to look like the night sky. I read about it in Hogwarts\",\n",
       " 'Sorting Hat',\n",
       " 'Harry whispers',\n",
       " 'Fred and George are also there, and cheer',\n",
       " 'Seamus',\n",
       " 'Percy',\n",
       " 'Nick',\n",
       " 'Hufflepuff ghost',\n",
       " 'Girl',\n",
       " 'Man in painting',\n",
       " 'Snape',\n",
       " 'Hooch',\n",
       " 'Class',\n",
       " 'Students',\n",
       " 'Boy 2',\n",
       " 'Quirrell: An iguana s-such as this is {McGonagall approaches the class and stops Harry',\n",
       " 'Filch',\n",
       " 'Harry, Ron, Hermione, and Filch',\n",
       " 'Oliver',\n",
       " 'Flitwick',\n",
       " 'Seamus: Wingard Levosa. Wingard Levosa. {Flitwick to Hermione',\n",
       " 'Ron and Harry',\n",
       " 'Lee',\n",
       " '{Cheering. Close-up of Gryffindor students. They are cheering. Neville',\n",
       " 'Ron and Seamus',\n",
       " 'Gryffindors',\n",
       " 'Flint',\n",
       " 'Crowd',\n",
       " 'Ron, Hermione, and Hagrid',\n",
       " 'Filchs voice',\n",
       " 'All 3',\n",
       " 'Firenze',\n",
       " \"Hermione's voice\",\n",
       " 'Hermione: Uh! I remember reading something in Herbology. {Ron',\n",
       " 'Ron: Castle to E-4! Smash! Ron',\n",
       " '{A raspy voice, VOLDEMORT, calls.}',\n",
       " \"Voldemort's voice\",\n",
       " 'Voldemort']"
      ]
     },
     "execution_count": 3,
     "metadata": {},
     "output_type": "execute_result"
    }
   ],
   "source": [
    "# Grabs everything before a colon in any line that has a colon\n",
    "# and puts it into a non-repeating, exhaustive list\n",
    "# Excludes \"Scene:\"\n",
    "starts = []\n",
    "for line in script_by_lines:\n",
    "    if (\":\" in line) & ('Scene:' not in line):\n",
    "        start = re.search(r\"[\\W\\w\\s]+[:]\", line).group()[:-1]\n",
    "        if start not in starts:\n",
    "            starts.append(start)\n",
    "starts"
   ]
  },
  {
   "cell_type": "code",
   "execution_count": 4,
   "metadata": {},
   "outputs": [
    {
     "name": "stdout",
     "output_type": "stream",
     "text": [
      "START:\n",
      " The camera pans into the scar and the opening title shows \n",
      "LINE:\n",
      " The camera pans into the scar and the opening title shows:\n",
      "START:\n",
      " Almost ten years after the \n",
      "LINE:\n",
      " Almost ten years after the: DURSLEY's home. The camera pans on a sleeping boy, almost eleven, with a lightning-bolt shaped scar on his forehead.\n",
      "START:\n",
      " Vernon glares down at him and Harry's grin disappears. Petunia continues screaming \n",
      "LINE:\n",
      " Vernon glares down at him and Harry's grin disappears. Petunia continues screaming: How did you get in there? Dursley, oh, Dursley!\n",
      "START:\n",
      " Harry: Thank you! {Opens cake, which reads \n",
      "LINE:\n",
      " Harry: Thank you! {Opens cake, which reads: Happee Birdae Harry.}\n",
      "START:\n",
      " Hermione: It's not real, the ceiling. It's just bewitched to look like the night sky. I read about it in Hogwarts \n",
      "LINE:\n",
      " Hermione: It's not real, the ceiling. It's just bewitched to look like the night sky. I read about it in Hogwarts: A History.\n",
      "START:\n",
      " Fred and George are also there, and cheer \n",
      "LINE:\n",
      " Fred and George are also there, and cheer: We got Potter! We got Potter! Harry sits down.\n",
      "START:\n",
      " Quirrell: An iguana s-such as this is {McGonagall approaches the class and stops Harry \n",
      "LINE:\n",
      " Quirrell: An iguana s-such as this is {McGonagall approaches the class and stops Harry: You wait here.} an essential in-gredient\n",
      "START:\n",
      " Seamus: Wingard Levosa. Wingard Levosa. {Flitwick to Hermione \n",
      "LINE:\n",
      " Seamus: Wingard Levosa. Wingard Levosa. {Flitwick to Hermione: Well done, dear.}\n",
      "START:\n",
      " {Cheering. Close-up of Gryffindor students. They are cheering. Neville \n",
      "LINE:\n",
      " {Cheering. Close-up of Gryffindor students. They are cheering. Neville: Gryffindor!}\n",
      "START:\n",
      " Hermione: Uh! I remember reading something in Herbology. {Ron \n",
      "LINE:\n",
      " Hermione: Uh! I remember reading something in Herbology. {Ron: Help!} Um Devil's Snare, Devil's Scare, {The snare shuts Ron's mouth} it's deadly fun...but will sulk in the sun! That's it! Devil's Snare hates sunlight! {takes out wand and points upwards.} Lumus Solem! {A beam of light shoots out. The Snare shrieks and recoils. Ron falls below.}\n",
      "START:\n",
      " Ron: Castle to E-4! Smash! Ron \n",
      "LINE:\n",
      " Ron: Castle to E-4! Smash! Ron: Pawn to C-3! Smash! Boom! The Queen turns, and smashes a piece! Harry, Ron and Hermione wince. The Queen turns again. Both Ron and Harry study the game.\n"
     ]
    }
   ],
   "source": [
    "# Copy/paste of the starts from above that are NOT character names\n",
    "non_character_starts = [\n",
    "    'The camera pans into the scar and the opening title shows',\n",
    "    'Almost ten years after the',\n",
    "    \"Vernon glares down at him and Harry's grin disappears. \" + \\\n",
    "        \"Petunia continues screaming\",\n",
    "    'Harry: Thank you! {Opens cake, which reads',\n",
    "    \"Hermione: It's not real, the ceiling. It's just bewitched to look\" + \\\n",
    "        \" like the night sky. I read about it in Hogwarts\",\n",
    "    'Fred and George are also there, and cheer',\n",
    "    'Quirrell: An iguana s-such as this is {McGonagall approaches the' + \\\n",
    "        ' class and stops Harry',\n",
    "    'Seamus: Wingard Levosa. Wingard Levosa. {Flitwick to Hermione',\n",
    "    '{Cheering. Close-up of Gryffindor students. They are cheering. Neville',\n",
    "    'Hermione: Uh! I remember reading something in Herbology. {Ron',\n",
    "    'Ron: Castle to E-4! Smash! Ron',\n",
    "]\n",
    "\n",
    "# Shows each non-character start and the line it's in for context\n",
    "for line in script_by_lines:\n",
    "    for start in non_character_starts:\n",
    "        if start in line:\n",
    "            print('START:\\n', start, '\\nLINE:\\n', line)"
   ]
  },
  {
   "cell_type": "code",
   "execution_count": 5,
   "metadata": {},
   "outputs": [],
   "source": [
    "# Manually changing or deleting colons that don't correspond to a spoken lines\n",
    "# and adding line breaks where there are new speakers\n",
    "\n",
    "whole_script = re.sub(\n",
    "    \"opening title shows:\",\n",
    "    \"opening title shows\",\n",
    "    whole_script\n",
    ")\n",
    "whole_script = re.sub(\n",
    "    \"Almost ten years after the: DURSLEY's home\",\n",
    "    \"Almost ten years after the DURSLEY's home\",\n",
    "    whole_script\n",
    ")\n",
    "whole_script = re.sub(\n",
    "    \"disappears. Petunia continues screaming: How did\",\n",
    "    \"disappears.\\nPetunia: How did\",\n",
    "    whole_script\n",
    ")\n",
    "whole_script = re.sub(\n",
    "    'reads: Happee Birdae Harry',\n",
    "    'reads, \"Hapee Birdae Harry\"',\n",
    "    whole_script\n",
    ")\n",
    "whole_script = re.sub(\n",
    "    \"it in Hogwarts: A History\",\n",
    "    \"it in Hogwarts, A History\",\n",
    "    whole_script\n",
    ")\n",
    "whole_script = re.sub(\n",
    "    \"cheer: We got Potter! We got Potter! Harry sits\",\n",
    "    \"cheer: We got Potter! We got Potter!\\nHarry sits\",\n",
    "    whole_script\n",
    ")\n",
    "whole_script = re.sub(\n",
    "    \"is {McGonagall approaches the class and stops Harry: You wait here.} \" + \\\n",
    "        \"an essential\",\n",
    "    \"is an essential...\\nMcGonagall: You wait here.\",\n",
    "    whole_script\n",
    ")\n",
    "whole_script = re.sub(\n",
    "    \"Levosa. {Flitwick to Hermione: Well done, dear.}\",\n",
    "    \"Levosa.\\nFlitwick to Hermione: Well done, dear.\",\n",
    "    whole_script\n",
    ")\n",
    "whole_script = re.sub(\n",
    "    \"cheering. Neville: Gryffindor!}\",\n",
    "    \"cheering.}\\nNeville: Gryffindor!\",\n",
    "    whole_script\n",
    ")\n",
    "whole_script = re.sub(\n",
    "    \"Herbology. {Ron: Help!} Um\",\n",
    "    \"Herbology.\\nRon: Help!\\nHermione: Um\",\n",
    "    whole_script\n",
    ")\n",
    "whole_script = re.sub(\n",
    "    \"E-4! Smash! Ron: Pawn to C-3! Smash!\",\n",
    "    \"E-4!\\n{Smash!}\\nRon: Pawn to C-3!\\n{Smash!\",\n",
    "    whole_script\n",
    ")\n",
    "whole_script = re.sub(\n",
    "    \"Ron and Harry study the game.\",\n",
    "    \"Ron and Harry study the game.}\",\n",
    "    whole_script\n",
    ")"
   ]
  },
  {
   "cell_type": "code",
   "execution_count": 6,
   "metadata": {},
   "outputs": [
    {
     "name": "stdout",
     "output_type": "stream",
     "text": [
      "['Dumbledore', 'McGonagall', 'Hagrid', 'Petunia', 'Dudley', 'Vernon', 'Harry', 'Snake', 'Man', 'Petunia and Vernon', 'Vernon, Petunia, and Dudley', 'Harry appears', 'Barkeep Tom', 'Tom', 'Witch', 'Quirrell', 'Boy', 'Goblin', 'Griphook', 'Ollivander', 'Trainmaster', 'Mrs. Weasley', 'George', 'Fred', 'Ginny', 'Ron', 'Woman', 'Frog', 'Hermione', 'Neville', 'Draco', 'Sorting Hat', 'Harry whispers', 'Fred and George are also there, and cheer', 'Seamus', 'Percy', 'Nick', 'Hufflepuff ghost', 'Girl', 'Man in painting', 'Snape', 'Hooch', 'Class', 'Students', 'Boy 2', 'Filch', 'Harry, Ron, Hermione, and Filch', 'Oliver', 'Flitwick', 'Flitwick to Hermione', 'Ron and Harry', 'Lee', 'Ron and Seamus', 'Gryffindors', 'Flint', 'Crowd', 'Ron, Hermione, and Hagrid', 'Filchs voice', 'All 3', 'Firenze', \"Hermione's voice\", '{A raspy voice, VOLDEMORT, calls.}', \"Voldemort's voice\", 'Voldemort']\n"
     ]
    }
   ],
   "source": [
    "# Split by line again and get list of speakers (same as before)\n",
    "script_by_lines = whole_script.splitlines()\n",
    "speakers = []\n",
    "for line in script_by_lines:\n",
    "    if (\":\" in line) & ('Scene:' not in line):\n",
    "        start = re.search(r\"[\\W\\w\\s]+[:]\", line).group()[:-1]\n",
    "        if start not in speakers:\n",
    "            speakers.append(start)\n",
    "print(speakers)"
   ]
  },
  {
   "cell_type": "code",
   "execution_count": 9,
   "metadata": {},
   "outputs": [],
   "source": [
    "# Manually tweaking a few of the speakers' names from above in whole_text\n",
    "whole_script = re.sub(\"Barkeep Tom:\", \"Tom:\", whole_script)\n",
    "whole_script = re.sub(\"Harry whispers:\", \"Harry:\", whole_script)\n",
    "whole_script = re.sub(\"Fred and George are also there, and cheer\",\n",
    "                      \"Fred and George\", whole_script)\n",
    "whole_script = re.sub('Flitwick to Hermione:', 'Flitwick:', whole_script)\n",
    "whole_script = re.sub('Filchs voice:', 'Filch:', whole_script)\n",
    "whole_script = re.sub(\"Hermione's voice:\", \"Hermione:\", whole_script)\n",
    "whole_script = re.sub('All 3:', 'Harry, Ron, and Hermione:', whole_script)\n",
    "whole_script = re.sub('{A raspy voice, VOLDEMORT, calls.}:', 'Voldemort:',\n",
    "                     whole_script)\n",
    "whole_script = re.sub(\"Voldemort's voice:\", \"Voldemort:\", whole_script)\n",
    "whole_script = re.sub(\"Harry appears:\", \"Harry:\", whole_script)"
   ]
  },
  {
   "cell_type": "code",
   "execution_count": 10,
   "metadata": {},
   "outputs": [
    {
     "name": "stdout",
     "output_type": "stream",
     "text": [
      "['Dumbledore', 'McGonagall', 'Hagrid', 'Petunia', 'Dudley', 'Vernon', 'Harry', 'Snake', 'Man', 'Petunia and Vernon', 'Vernon, Petunia, and Dudley', 'Tom', 'Witch', 'Quirrell', 'Boy', 'Goblin', 'Griphook', 'Ollivander', 'Trainmaster', 'Mrs. Weasley', 'George', 'Fred', 'Ginny', 'Ron', 'Woman', 'Frog', 'Hermione', 'Neville', 'Draco', 'Sorting Hat', 'Fred and George', 'Seamus', 'Percy', 'Nick', 'Hufflepuff ghost', 'Girl', 'Man in painting', 'Snape', 'Hooch', 'Class', 'Students', 'Boy 2', 'Filch', 'Harry, Ron, Hermione, and Filch', 'Oliver', 'Flitwick', 'Ron and Harry', 'Lee', 'Ron and Seamus', 'Gryffindors', 'Flint', 'Crowd', 'Ron, Hermione, and Hagrid', 'Harry, Ron, and Hermione', 'Firenze', 'Voldemort']\n"
     ]
    }
   ],
   "source": [
    "# Splitting by lines one last time and keeping all the speaker names\n",
    "script_by_lines = whole_script.splitlines()\n",
    "speakers = []\n",
    "for line in script_by_lines:\n",
    "    if (\":\" in line) & ('Scene:' not in line):\n",
    "        start = re.search(r\"[\\W\\w\\s]+[:]\", line).group()[:-1]\n",
    "        if start not in speakers:\n",
    "            speakers.append(start)\n",
    "print(speakers)"
   ]
  },
  {
   "cell_type": "markdown",
   "metadata": {},
   "source": [
    "<font face=\"Comic Sans MS\" color=\"hotpink\" size=5>\n",
    "Now we have a list of all the speakers in the entire movie, and when multiple people speak at once, each of their names is included.  Now we'll make a dictionary with each speaker as a key and each of their lines as a value.\n",
    "</font>"
   ]
  },
  {
   "cell_type": "code",
   "execution_count": null,
   "metadata": {},
   "outputs": [],
   "source": [
    "# To be continued"
   ]
  }
 ],
 "metadata": {
  "kernelspec": {
   "display_name": "Python 3",
   "language": "python",
   "name": "python3"
  },
  "language_info": {
   "codemirror_mode": {
    "name": "ipython",
    "version": 3
   },
   "file_extension": ".py",
   "mimetype": "text/x-python",
   "name": "python",
   "nbconvert_exporter": "python",
   "pygments_lexer": "ipython3",
   "version": "3.8.3"
  }
 },
 "nbformat": 4,
 "nbformat_minor": 4
}
