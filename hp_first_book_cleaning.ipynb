{
 "cells": [
  {
   "cell_type": "markdown",
   "metadata": {},
   "source": [
    "### Imports"
   ]
  },
  {
   "cell_type": "code",
   "execution_count": 1,
   "metadata": {},
   "outputs": [],
   "source": [
    "import spacy\n",
    "from spacy.tokenizer import Tokenizer\n",
    "import re"
   ]
  },
  {
   "cell_type": "code",
   "execution_count": 2,
   "metadata": {},
   "outputs": [],
   "source": [
    "import requests\n",
    "url = \"https://raw.githubusercontent.com/formcept/whiteboard/2feafb5818784118cf19efda29b5525aca4255cd/nbviewer/notebooks/data/harrypotter/Book%201%20-%20The%20Philosopher's%20Stone.txt\"\n",
    "page = requests.get(url)\n",
    "first_book = page.text"
   ]
  },
  {
   "cell_type": "markdown",
   "metadata": {},
   "source": [
    "### EDA"
   ]
  },
  {
   "cell_type": "code",
   "execution_count": 3,
   "metadata": {},
   "outputs": [
    {
     "data": {
      "text/plain": [
       "'/ \\n\\n\\n\\n\\nTHE BOY WHO LIVED \\n\\nMr. and Mrs. Dursley, of number four, Privet Drive, \\nwere proud to say that they were perfectly normal, \\nthank you very much. They were the last people you’d \\nexpect to be involved in anything strange or \\nmysterious, because they just didn’t hold with such \\nnonsense. \\n\\nMr. Dursley was the director of a firm called \\nGrunnings, which made drills. He was a big, beefy \\nman with hardly any neck, although he did have a \\nvery large mustache. Mrs. Dursley was thin and \\nblonde and had nearly twice the usual amount of \\nneck, which came in very useful as she spent so \\nmuch of her time craning over garden fences, spying \\non the neighbors. The Dursley s had a small son \\ncalled Dudley and in their opinion there was no finer \\nboy anywhere. \\n\\nThe Dursleys had everything they wanted, but they \\nalso had a secret, and their greatest fear was that \\nsomebody would discover it. They didn’t think they \\ncould bear it if anyone found out about the Potters. \\nMrs. Potter was Mrs. Dursl'"
      ]
     },
     "execution_count": 3,
     "metadata": {},
     "output_type": "execute_result"
    }
   ],
   "source": [
    "first_book[0:1000]"
   ]
  },
  {
   "cell_type": "code",
   "execution_count": 4,
   "metadata": {},
   "outputs": [
    {
     "data": {
      "text/plain": [
       "[673]"
      ]
     },
     "execution_count": 4,
     "metadata": {},
     "output_type": "execute_result"
    }
   ],
   "source": [
    "# Can see in the second paragraph \"The Dursley s had a small son...\",\n",
    "# but then in the third paragraph \"The Dursleys had everything...\"\n",
    "# Need to find how many times this file has the plural \"s\" separated\n",
    "# from the root word...\n",
    "\n",
    "# Lists out all the occurrences of a stand-alone \"s\" or \"es\"\n",
    "matches = re.finditer(\"[\\s]e*s[\\s]\", first_book)\n",
    "starts = [match.start() for match in matches]\n",
    "starts"
   ]
  },
  {
   "cell_type": "markdown",
   "metadata": {},
   "source": [
    "### Cleaning"
   ]
  },
  {
   "cell_type": "code",
   "execution_count": 5,
   "metadata": {},
   "outputs": [
    {
     "data": {
      "text/plain": [
       "'/ <new_para> THE BOY WHO LIVED <new_para> Mr. and Mrs. Dursley, of number four, Privet Drive, were proud to say that they were perfectly normal, thank you very much. They were the last people you’d expect to be involved in anything strange or mysterious, because they just didn’t hold with such nonsense. <new_para> Mr. Dursley was the director of a firm called Grunnings, which made drills. He was a big, beefy man with hardly any neck, although he did have a very large mustache. Mrs. Dursley was thin and blonde and had nearly twice the usual amount of neck, which came in very useful as she spent so much of her time craning over garden fences, spying on the neighbors. The Dursleys had a small son called Dudley and in their opinion there was no finer boy anywhere. <new_para> The Dursleys had everything they wanted, but they also had a secret, and their greatest fear was that somebody would discover it. They didn’t think they could bear it if anyone found out about the Potters. Mrs. Potter was Mrs. Dursley’s sister, but they hadn’t <new_page> met for several years; in fact, Mrs. Dursley pretended she didn’t have a sister, because her sister and her good-for-nothing husband were as unDursleyish as it was possible to be. The Dursleys shuddered to think what the neighbors would say if the Potters arrived in the street. The Dursleys knew that the Potters had a small son, too, but they had never even seen him. <new_para> This boy was another good reason for keeping the Potters away; they didn’t want Dudley mixing with a child like that. <new_para> When Mr. and Mrs. Dursley woke up on the dull, gray Tuesday our story starts, there was nothing about the cloudy sky outside to suggest that strange and mysterious things would soon be happening all over the country. Mr. Dursley hummed as he picked out his most boring tie for work, and Mrs. Dursley gossiped away happily as she wrestled a screaming Dudley into his high chair. <new_para> None of them noticed a large, tawny owl flutter past the window. <new_para> At half past eight, Mr. Dursley picked up his briefcase, pecked Mrs. Dursley on the cheek, and tried to kiss Dudley good-bye but missed, because Dudley was now having a tantrum and throwing his cereal at the walls. “Little tyke,” chortled Mr. Dursley as he left the house. He got into his car and backed out of number four’s drive. <new_para> It was on the corner of the street that he noticed the first sign of something peculiar — a cat reading a map. For a second, Mr. Dursley didn’t realize what he had seen — then he jerked his head around to look again. There was a tabby cat standing on the corner of Privet Drive, but there wasn’t a map in sight. What could he have been thinking of? It must have been a trick of the light. Mr. Dursley blinked and stared at <new_page> the cat. It stared back. As Mr. Dursley drove around the corner and up the road, he watched the cat in his mirror. It was now reading the sign that said Privet Drive — no, looking at the sign; cats couldn’t read maps or signs. Mr. Dursley gave himself a little shake and put the cat out of his mind. As he drove toward town he thought of nothing except a large order of drills he was hoping to get that day. <new_para> But on the edge of town, drills were driven out of his mind by something else. As he sat in the usual morning traffic jam, he couldn’t help noticing that there seemed to be a lot of strangely dressed people about. People in cloaks. Mr. Dursley couldn’t bear people who dressed in funny clothes — the getups you saw on young people! He supposed this was some stupid new fashion. He drummed his fingers on the steering wheel and his eyes fell on a huddle of these weirdos standing quite close by. They were whispering excitedly together. Mr. Dursley was enraged to see that a couple of them weren’t young at all; why, that man had to be older than he was, and wearing an emerald-green cloak! The nerve of him! But then it struck Mr. Dursley that this was probably some silly stunt — these people were obviously collecting for something ... yes, that would be it. The traffic moved on and a few minutes later, Mr. Dursley arrived in the Grunnings parking lot, his mind back on drills. <new_para> Mr. Dursley always sat with his back to the window in his office on the ninth floor. If he hadn’t, he might have found it harder to concentrate on drills that morning. He didn’t see the owls swooping past in broad daylight, though people down in the street did; they pointed and gazed open-mouthed as owl after owl sped overhead. Most of them had never seen an owl even at nighttime. Mr. Dursley, however, had a perfectly normal, owl-free morning. He yelled at five different people. He made several important telephone <new_page> calls and shouted a bit more. He was in a very good mood until lunchtime, when he thought he’d stretch his legs and walk across the road to buy himself a bun from the bakery. <new_para> He’d forgotten all about the people in cloaks until he passed a g'"
      ]
     },
     "execution_count": 5,
     "metadata": {},
     "output_type": "execute_result"
    }
   ],
   "source": [
    "first_book = page.text\n",
    "\n",
    "def clean_first_book(first_book):\n",
    "    # Now removing the space before that stand-alone \"s\"\n",
    "    first_book = re.sub(r\"[\\s][s][\\s]\", \"s \", first_book)\n",
    "    # Turns all the occurrences of double \"\\n\" into a <new_para> tag\n",
    "    first_book = re.sub(r\"\\n\\n\", \"<new_para> \", first_book)\n",
    "    # Removes the rest of the occurrences of single\"\\n\"\n",
    "    first_book = re.sub(r\"\\n\", \"\", first_book)\n",
    "    # Removes double <new_para>\n",
    "    first_book = re.sub(r\"<new_para> <new_para> \", \"<new_para> \", first_book)\n",
    "    # Replaces the page markers with a \"<new_page>\" tag\n",
    "    first_book = re.sub(r\"Page [|] [\\d]+ Harry Potter and the Philosophers \" \\\n",
    "                        \"Stone -[\\s]?J.K. Rowling\", \"<new_page>\", first_book)\n",
    "    # New pages have lots of '\\n\\n', so we'll remove the \"<new_para>\" that\n",
    "    # automatically comes with \"<new_page>\"\n",
    "    first_book = re.sub(\"<new_para> <new_page>\", \"<new_page>\", first_book)\n",
    "    first_book = re.sub(\"<new_page> <new_para>\", \"<new_page>\", first_book)\n",
    "    return first_book\n",
    "\n",
    "first_book = clean_first_book(first_book)\n",
    "first_book[:5000]"
   ]
  },
  {
   "cell_type": "markdown",
   "metadata": {},
   "source": [
    "### Tests"
   ]
  },
  {
   "cell_type": "code",
   "execution_count": 6,
   "metadata": {},
   "outputs": [],
   "source": [
    "# Tests to make sure there are no pipes (\"|\")\n",
    "pipes = re.finditer(r\"[|]+\", first_book)\n",
    "pipes = [pipe.start() for pipe in pipes]\n",
    "assert pipes == []"
   ]
  },
  {
   "cell_type": "markdown",
   "metadata": {},
   "source": [
    "### EDA, round 2"
   ]
  },
  {
   "cell_type": "code",
   "execution_count": 7,
   "metadata": {},
   "outputs": [
    {
     "name": "stdout",
     "output_type": "stream",
     "text": [
      "Backslash Locations:  [53610, 60402, 80769, 147783, 152029, 179135, 179171, 179259, 243300, 267351, 304264, 332526, 333828, 349322, 397677, 401627, 422308, 426247, 438468]\n",
      "Slash Locations:  [0, 78370, 88025, 100062, 236628, 439118]\n"
     ]
    }
   ],
   "source": [
    "# Finds index positions of all the places where one or more slashes\n",
    "# or backslashes appear\n",
    "backslashes = re.finditer(r\"[\\\\]{1,2}\", first_book)\n",
    "backslashes = [backslash.start() for backslash in backslashes]\n",
    "print(\"Backslash Locations: \", backslashes)\n",
    "slashes = re.finditer(r\"[/]{1,2}\", first_book)\n",
    "slashes = [slash.start() for slash in slashes]\n",
    "print(\"Slash Locations: \", slashes)"
   ]
  },
  {
   "cell_type": "code",
   "execution_count": 8,
   "metadata": {},
   "outputs": [
    {
     "name": "stdout",
     "output_type": "stream",
     "text": [
      "BACKSLASHES:\n",
      "\n",
      "w_para> “That’s mine\\” said Harry, tryin\n",
      "at — something alive\\ <new_para> Lights \n",
      "unia suddenly. “Knew\\ Of course we knew!\n",
      "<new_para> “ Georg e\\” <new_para> “Only \n",
      " You-Know-Who’s name\\” said Ron, soundin\n",
      "n! Don’t be afraid l\\ <new_para> And don\n",
      " don’t get in a flap\\ <new_para> You’re \n",
      "r I’m a Thinking Cap\\” <new_para> The wh\n",
      "hispered, “Alohomora\\” <new_para> The lo\n",
      "> “Come on, run, run\\” Harry yelled at H\n",
      ". <new_para> “ Weird\\ ” he said, “What a\n",
      "ara> “I’ve found him\\” he whispered. “I’\n",
      "the Sorcerer’s Stone\\” <new_para> This d\n",
      " ” <new_para> “Shhhh\\” Hagrid looked aro\n",
      "stop saying the name\\” Ron hissed. <new_\n",
      "knew what this means\\” he burst out angr\n",
      "n. <new_para> “Lucky\\” shrieked Hermione\n",
      "denly. “They’re keys\\ Winged keys — look\n",
      "ell. <new_para> “You\\” gasped Harry. <ne\n",
      "\n",
      "SLASHES:\n",
      "\n",
      "a> HOGWARTS SCHOOL o/WITCHCRAFT and WIZA\n",
      "hadn’t counted on — / dunno what it was,\n",
      "a> HOGWARTS SCHOOL o/WITCHCRAFT and WIZA\n",
      "e about yourselves, / don’t want Slyther\n",
      "_page> “No, no, no. / tried to kill you.\n"
     ]
    }
   ],
   "source": [
    "# Shows the context of each slash and backslash\n",
    "print(\"BACKSLASHES:\\n\")\n",
    "for i in backslashes:\n",
    "    print(first_book[i-20:i+20])\n",
    "print(\"\\nSLASHES:\")\n",
    "for i in slashes:\n",
    "    print(first_book[i-20:i+20])"
   ]
  },
  {
   "cell_type": "markdown",
   "metadata": {},
   "source": [
    "<font color=\"hotpink\" face=\"Times New Roman\">\n",
    "    \n",
    "1) Looks like each backslash is meant to be an exclamation mark.\n",
    "    \n",
    "2) Need to fix \"Georg e\" and \"afraid l!\"\n",
    "    \n",
    "3) Each forward slash is meant to be either an apostrophe or \"I\"."
   ]
  },
  {
   "cell_type": "code",
   "execution_count": null,
   "metadata": {},
   "outputs": [],
   "source": [
    "backslashes = re.finditer(r\"[\\\\]{1,2}\", first_book)\n",
    "backslashes = [backslash.start() for backslash in backslashes]\n",
    "print(\"Backslash Locations: \", backslashes)\n",
    "slashes = re.finditer(r\"[/]{1,2}\", first_book)\n",
    "slashes = [slash.start() for slash in slashes]\n",
    "print(\"Slash Locations: \", slashes)"
   ]
  },
  {
   "cell_type": "markdown",
   "metadata": {},
   "source": [
    "### Cleaning, round 2"
   ]
  },
  {
   "cell_type": "code",
   "execution_count": 10,
   "metadata": {},
   "outputs": [],
   "source": [
    "def clean_first_book_2(first_book):\n",
    "    # Fixes backslashes (should be exclamation marks)\n",
    "    first_book = re.sub(r\"[\\\\]{1,2}\", \"!\", first_book)\n",
    "    # Fixes forward slashes\n",
    "    first_book = re.sub(r\"o[/]WITCHCRAFT\", \"o'WITCHCRAFT\", first_book)\n",
    "    first_book = re.sub(r\"[/][\\s]\", \"I \", first_book)\n",
    "\n",
    "    return first_book\n",
    "\n",
    "first_book = clean_first_book_2(first_book)"
   ]
  },
  {
   "cell_type": "code",
   "execution_count": 11,
   "metadata": {},
   "outputs": [
    {
     "name": "stdout",
     "output_type": "stream",
     "text": [
      "BACKSLASHES:\n",
      "\n",
      "w_para> “That’s mine!” said Harry, tryin\n",
      "at — something alive! <new_para> Lights \n",
      "unia suddenly. “Knew! Of course we knew!\n",
      "<new_para> “ Georg e!” <new_para> “Only \n",
      " You-Know-Who’s name!” said Ron, soundin\n",
      "n! Don’t be afraid l! <new_para> And don\n",
      " don’t get in a flap! <new_para> You’re \n",
      "r I’m a Thinking Cap!” <new_para> The wh\n",
      "hispered, “Alohomora!” <new_para> The lo\n",
      "> “Come on, run, run!” Harry yelled at H\n",
      ". <new_para> “ Weird! ” he said, “What a\n",
      "ara> “I’ve found him!” he whispered. “I’\n",
      "the Sorcerer’s Stone!” <new_para> This d\n",
      " ” <new_para> “Shhhh!” Hagrid looked aro\n",
      "stop saying the name!” Ron hissed. <new_\n",
      "knew what this means!” he burst out angr\n",
      "n. <new_para> “Lucky!” shrieked Hermione\n",
      "denly. “They’re keys! Winged keys — look\n",
      "ell. <new_para> “You!” gasped Harry. <ne\n",
      "SLASHES:\n",
      "\n",
      "\n",
      "a> HOGWARTS SCHOOL o'WITCHCRAFT and WIZA\n",
      "hadn’t counted on — I dunno what it was,\n",
      "a> HOGWARTS SCHOOL o'WITCHCRAFT and WIZA\n",
      "e about yourselves, I don’t want Slyther\n",
      "_page> “No, no, no. I tried to kill you.\n"
     ]
    }
   ],
   "source": [
    "print(\"BACKSLASHES:\\n\")\n",
    "for i in backslashes:\n",
    "    print(first_book[i-20:i+20])\n",
    "print(\"SLASHES:\\n\")\n",
    "for i in slashes:\n",
    "    print(first_book[i-20:i+20])"
   ]
  },
  {
   "cell_type": "code",
   "execution_count": 12,
   "metadata": {},
   "outputs": [],
   "source": [
    "nlp = spacy.load('en_core_web_lg')\n",
    "tokenizer = Tokenizer(nlp.vocab)\n",
    "doc = tokenizer(first_book)"
   ]
  }
 ],
 "metadata": {
  "kernelspec": {
   "display_name": "Python 3",
   "language": "python",
   "name": "python3"
  },
  "language_info": {
   "codemirror_mode": {
    "name": "ipython",
    "version": 3
   },
   "file_extension": ".py",
   "mimetype": "text/x-python",
   "name": "python",
   "nbconvert_exporter": "python",
   "pygments_lexer": "ipython3",
   "version": "3.8.3"
  }
 },
 "nbformat": 4,
 "nbformat_minor": 4
}
